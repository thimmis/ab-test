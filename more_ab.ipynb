{
 "cells": [
  {
   "cell_type": "code",
   "execution_count": 1,
   "metadata": {},
   "outputs": [],
   "source": [
    "import pandas as pd\n",
    "import numpy as np\n",
    "import matplotlib.pyplot as plt"
   ]
  },
  {
   "cell_type": "code",
   "execution_count": 2,
   "metadata": {},
   "outputs": [
    {
     "data": {
      "text/html": "<div>\n<style scoped>\n    .dataframe tbody tr th:only-of-type {\n        vertical-align: middle;\n    }\n\n    .dataframe tbody tr th {\n        vertical-align: top;\n    }\n\n    .dataframe thead th {\n        text-align: right;\n    }\n</style>\n<table border=\"1\" class=\"dataframe\">\n  <thead>\n    <tr style=\"text-align: right;\">\n      <th></th>\n      <th>userid</th>\n      <th>version</th>\n      <th>sum_gamerounds</th>\n      <th>retention_1</th>\n      <th>retention_7</th>\n    </tr>\n  </thead>\n  <tbody>\n    <tr>\n      <th>0</th>\n      <td>116</td>\n      <td>gate_30</td>\n      <td>3</td>\n      <td>False</td>\n      <td>False</td>\n    </tr>\n    <tr>\n      <th>1</th>\n      <td>337</td>\n      <td>gate_30</td>\n      <td>38</td>\n      <td>True</td>\n      <td>False</td>\n    </tr>\n    <tr>\n      <th>2</th>\n      <td>377</td>\n      <td>gate_40</td>\n      <td>165</td>\n      <td>True</td>\n      <td>False</td>\n    </tr>\n    <tr>\n      <th>3</th>\n      <td>483</td>\n      <td>gate_40</td>\n      <td>1</td>\n      <td>False</td>\n      <td>False</td>\n    </tr>\n    <tr>\n      <th>4</th>\n      <td>488</td>\n      <td>gate_40</td>\n      <td>179</td>\n      <td>True</td>\n      <td>True</td>\n    </tr>\n  </tbody>\n</table>\n</div>",
      "text/plain": "   userid  version  sum_gamerounds  retention_1  retention_7\n0     116  gate_30               3        False        False\n1     337  gate_30              38         True        False\n2     377  gate_40             165         True        False\n3     483  gate_40               1        False        False\n4     488  gate_40             179         True         True"
     },
     "execution_count": 2,
     "metadata": {},
     "output_type": "execute_result"
    }
   ],
   "source": [
    "df = pd.read_csv('cookie_cats.csv')\n",
    "df.head()"
   ]
  },
  {
   "cell_type": "markdown",
   "metadata": {},
   "source": [
    "This notebook investigates the retention rate of users for a mobile game where different groups of users are assigned to different versions of the game with different milestones; one where goals are acheived after 30 levels and the other after 40 levels. The dataset contains unique user information based on which group they were assigned to, the number of rounds played, and whether or not they were still active after 1 and 7 days respectively.\n",
    "\n",
    "The investigation here is interested in understanding which game format has the highest impact on user retention. The retention for each milestone category will be determined by the number of users that continued playing up to or past the 7 day mark. Additionally, the number of rounds played by each user allows us to assess whether a particular milestone had a greater impact on the engagement of users with the game."
   ]
  },
  {
   "cell_type": "code",
   "execution_count": 3,
   "metadata": {},
   "outputs": [
    {
     "name": "stdout",
     "output_type": "stream",
     "text": [
      "<class 'pandas.core.frame.DataFrame'>\n",
      "RangeIndex: 90189 entries, 0 to 90188\n",
      "Data columns (total 5 columns):\n",
      " #   Column          Non-Null Count  Dtype \n",
      "---  ------          --------------  ----- \n",
      " 0   userid          90189 non-null  int64 \n",
      " 1   version         90189 non-null  object\n",
      " 2   sum_gamerounds  90189 non-null  int64 \n",
      " 3   retention_1     90189 non-null  bool  \n",
      " 4   retention_7     90189 non-null  bool  \n",
      "dtypes: bool(2), int64(2), object(1)\n",
      "memory usage: 2.2+ MB\n"
     ]
    }
   ],
   "source": [
    "df.info()"
   ]
  },
  {
   "cell_type": "code",
   "execution_count": 4,
   "metadata": {},
   "outputs": [
    {
     "data": {
      "text/html": "<div>\n<style scoped>\n    .dataframe tbody tr th:only-of-type {\n        vertical-align: middle;\n    }\n\n    .dataframe tbody tr th {\n        vertical-align: top;\n    }\n\n    .dataframe thead th {\n        text-align: right;\n    }\n</style>\n<table border=\"1\" class=\"dataframe\">\n  <thead>\n    <tr style=\"text-align: right;\">\n      <th></th>\n      <th>userid</th>\n      <th>version</th>\n      <th>sum_gamerounds</th>\n      <th>retention_1</th>\n      <th>retention_7</th>\n    </tr>\n  </thead>\n  <tbody>\n  </tbody>\n</table>\n</div>",
      "text/plain": "Empty DataFrame\nColumns: [userid, version, sum_gamerounds, retention_1, retention_7]\nIndex: []"
     },
     "execution_count": 4,
     "metadata": {},
     "output_type": "execute_result"
    }
   ],
   "source": [
    "df[df.duplicated() == True]"
   ]
  },
  {
   "cell_type": "markdown",
   "metadata": {},
   "source": [
    "There are no duplicate values for any users across any of the features in the dataset."
   ]
  },
  {
   "cell_type": "code",
   "execution_count": 5,
   "metadata": {},
   "outputs": [
    {
     "data": {
      "text/plain": "userid            False\nversion           False\nsum_gamerounds    False\nretention_1       False\nretention_7       False\ndtype: bool"
     },
     "execution_count": 5,
     "metadata": {},
     "output_type": "execute_result"
    }
   ],
   "source": [
    "df.any().isnull()"
   ]
  },
  {
   "cell_type": "markdown",
   "metadata": {},
   "source": [
    "Furthermore, there is no missing information in any of the columns."
   ]
  },
  {
   "cell_type": "code",
   "execution_count": 6,
   "metadata": {},
   "outputs": [
    {
     "data": {
      "text/plain": "array(['gate_30', 'gate_40'], dtype=object)"
     },
     "execution_count": 6,
     "metadata": {},
     "output_type": "execute_result"
    }
   ],
   "source": [
    "df.version.unique()"
   ]
  },
  {
   "cell_type": "code",
   "execution_count": 7,
   "metadata": {},
   "outputs": [],
   "source": [
    "def label_figure(ax, spacing=5):\n",
    "    for rect in ax.patches:\n",
    "        y_val = rect.get_height()\n",
    "        x_val = rect.get_x() + rect.get_width() /2\n",
    "        space = spacing\n",
    "        va = 'bottom'\n",
    "        if y_val < 0:\n",
    "            space*= -1\n",
    "            va = 'top'\n",
    "        label = '{:.2f}'.format(y_val)\n",
    "        ax.annotate(\n",
    "            label,\n",
    "            (x_val,y_val),\n",
    "            xytext = (0,space),\n",
    "            textcoords='offset points',\n",
    "            ha = 'center',\n",
    "            va=va            \n",
    "        )"
   ]
  },
  {
   "cell_type": "code",
   "execution_count": 8,
   "metadata": {
    "scrolled": true
   },
   "outputs": [
    {
     "data": {
      "image/png": "[encoded data removed]",
      "text/plain": "<Figure size 1008x720 with 1 Axes>"
     },
     "metadata": {
      "needs_background": "light"
     },
     "output_type": "display_data"
    }
   ],
   "source": [
    "_, ax = plt.subplots(1,1,figsize=(14,10))\n",
    "ax.set_facecolor('lightgray')\n",
    "df.groupby('version')['userid'].count().plot(ax=ax, kind='bar', color=['blue','green'])\n",
    "plt.title('Number of Users per format group', fontsize='22')\n",
    "plt.xticks(rotation=45, horizontalalignment=\"center\")\n",
    "plt.ylabel('Number of Users', fontsize='14')\n",
    "plt.xlabel('Game Version - Milestone', fontsize='14')\n",
    "label_figure(ax)\n",
    "plt.show()"
   ]
  },
  {
   "cell_type": "markdown",
   "metadata": {},
   "source": [
    "The number of users assigned to each game version are roughly equal."
   ]
  },
  {
   "cell_type": "code",
   "execution_count": 9,
   "metadata": {},
   "outputs": [
    {
     "data": {
      "text/plain": "Power_divergenceResult(statistic=6.902339505488413, pvalue=0.008608302912290668)"
     },
     "execution_count": 9,
     "metadata": {},
     "output_type": "execute_result"
    }
   ],
   "source": [
    "from scipy.stats import chisquare\n",
    "\n",
    "chisquare([44700,45489], f_exp = [45095, 45095])"
   ]
  },
  {
   "cell_type": "markdown",
   "metadata": {},
   "source": [
    "Assuming $\\alpha = 0.001$ there is no evidence of Sample Ratio Missmatch when assuming equal sample sizes. Thus we can reject the notion that there is any evidence of SRM in the data. "
   ]
  },
  {
   "cell_type": "code",
   "execution_count": 14,
   "metadata": {},
   "outputs": [
    {
     "name": "stdout",
     "output_type": "stream",
     "text": [
      "optimal sample size of 17443.000\n"
     ]
    }
   ],
   "source": [
    "from statsmodels.stats.power import TTestIndPower\n",
    "effect = 0.03\n",
    "alpha = 0.05\n",
    "power = 0.8\n",
    "\n",
    "analysis = TTestIndPower()\n",
    "\n",
    "res = analysis.solve_power(effect, power = power, nobs1= None,\n",
    "ratio=1.0, alpha= alpha)\n",
    "\n",
    "print('optimal sample size of {:.3f}'.format(round(res)))"
   ]
  },
  {
   "cell_type": "code",
   "execution_count": 15,
   "metadata": {},
   "outputs": [],
   "source": [
    "sdf = df.sample(n=17443*2,random_state=1)"
   ]
  },
  {
   "cell_type": "code",
   "execution_count": 16,
   "metadata": {},
   "outputs": [],
   "source": [
    "retention_1day = pd.crosstab([sdf.version],sdf.retention_1,margins=False)\n",
    "retention_7day = pd.crosstab([sdf.version],sdf.retention_7, margins=False)"
   ]
  },
  {
   "cell_type": "code",
   "execution_count": 17,
   "metadata": {},
   "outputs": [],
   "source": [
    "from scipy.stats import chi2_contingency"
   ]
  },
  {
   "cell_type": "code",
   "execution_count": 18,
   "metadata": {},
   "outputs": [
    {
     "data": {
      "text/plain": "(2.245710995205697,\n 0.13398531121203436,\n 1,\n array([[9598.03660494, 7674.96339506],\n        [9786.96339506, 7826.03660494]]))"
     },
     "execution_count": 18,
     "metadata": {},
     "output_type": "execute_result"
    }
   ],
   "source": [
    "chi2_contingency(retention_1day)"
   ]
  },
  {
   "cell_type": "code",
   "execution_count": 19,
   "metadata": {},
   "outputs": [
    {
     "data": {
      "text/html": "<div>\n<style scoped>\n    .dataframe tbody tr th:only-of-type {\n        vertical-align: middle;\n    }\n\n    .dataframe tbody tr th {\n        vertical-align: top;\n    }\n\n    .dataframe thead th {\n        text-align: right;\n    }\n</style>\n<table border=\"1\" class=\"dataframe\">\n  <thead>\n    <tr style=\"text-align: right;\">\n      <th>retention_1</th>\n      <th>False</th>\n      <th>True</th>\n    </tr>\n    <tr>\n      <th>version</th>\n      <th></th>\n      <th></th>\n    </tr>\n  </thead>\n  <tbody>\n    <tr>\n      <th>gate_30</th>\n      <td>9528</td>\n      <td>7745</td>\n    </tr>\n    <tr>\n      <th>gate_40</th>\n      <td>9857</td>\n      <td>7756</td>\n    </tr>\n  </tbody>\n</table>\n</div>",
      "text/plain": "retention_1  False  True \nversion                  \ngate_30       9528   7745\ngate_40       9857   7756"
     },
     "execution_count": 19,
     "metadata": {},
     "output_type": "execute_result"
    }
   ],
   "source": [
    "retention_1day"
   ]
  },
  {
   "cell_type": "code",
   "execution_count": 20,
   "metadata": {},
   "outputs": [
    {
     "data": {
      "text/plain": "(5.107519918026027,\n 0.023822350464475867,\n 1,\n array([[14052.69408932,  3220.30591068],\n        [14329.30591068,  3283.69408932]]))"
     },
     "execution_count": 20,
     "metadata": {},
     "output_type": "execute_result"
    }
   ],
   "source": [
    "chi2_contingency(retention_7day)"
   ]
  },
  {
   "cell_type": "code",
   "execution_count": 21,
   "metadata": {},
   "outputs": [
    {
     "data": {
      "text/html": "<div>\n<style scoped>\n    .dataframe tbody tr th:only-of-type {\n        vertical-align: middle;\n    }\n\n    .dataframe tbody tr th {\n        vertical-align: top;\n    }\n\n    .dataframe thead th {\n        text-align: right;\n    }\n</style>\n<table border=\"1\" class=\"dataframe\">\n  <thead>\n    <tr style=\"text-align: right;\">\n      <th>retention_7</th>\n      <th>False</th>\n      <th>True</th>\n    </tr>\n    <tr>\n      <th>version</th>\n      <th></th>\n      <th></th>\n    </tr>\n  </thead>\n  <tbody>\n    <tr>\n      <th>gate_30</th>\n      <td>13970</td>\n      <td>3303</td>\n    </tr>\n    <tr>\n      <th>gate_40</th>\n      <td>14412</td>\n      <td>3201</td>\n    </tr>\n  </tbody>\n</table>\n</div>",
      "text/plain": "retention_7  False  True \nversion                  \ngate_30      13970   3303\ngate_40      14412   3201"
     },
     "execution_count": 21,
     "metadata": {},
     "output_type": "execute_result"
    }
   ],
   "source": [
    "retention_7day"
   ]
  },
  {
   "cell_type": "markdown",
   "metadata": {},
   "source": [
    "After one day there doesn't appear to be any notable difference in the retention rate between groups, but there does seem to be an impact in whether the gate is set to 30 or 40 levels in the retention rate after 7 days. To better understand this it is important to look at the frequency of games played by users over this period of time."
   ]
  },
  {
   "cell_type": "code",
   "execution_count": 22,
   "metadata": {},
   "outputs": [
    {
     "data": {
      "text/plain": "version\ngate_30    17273\ngate_40    17613\nName: userid, dtype: int64"
     },
     "execution_count": 22,
     "metadata": {},
     "output_type": "execute_result"
    }
   ],
   "source": [
    "sdf.groupby(['version'])['userid'].count()"
   ]
  },
  {
   "cell_type": "markdown",
   "metadata": {},
   "source": [
    "## SRM"
   ]
  },
  {
   "cell_type": "code",
   "execution_count": 23,
   "metadata": {},
   "outputs": [
    {
     "data": {
      "text/plain": "Power_divergenceResult(statistic=3.3136501748552427, pvalue=0.06870672264778349)"
     },
     "execution_count": 23,
     "metadata": {},
     "output_type": "execute_result"
    }
   ],
   "source": [
    "\n",
    "chisquare([17273,17613], f_exp = [17443,17443])"
   ]
  },
  {
   "cell_type": "markdown",
   "metadata": {},
   "source": [
    "Assuming a critical value of 0.001 for determining if there is evidence of SRM in the random sampling, we reject the notion that there is any influence/evidence of SRM in the sampled data."
   ]
  },
  {
   "cell_type": "code",
   "execution_count": 24,
   "metadata": {},
   "outputs": [
    {
     "data": {
      "text/html": "<div>\n<style scoped>\n    .dataframe tbody tr th:only-of-type {\n        vertical-align: middle;\n    }\n\n    .dataframe tbody tr th {\n        vertical-align: top;\n    }\n\n    .dataframe thead th {\n        text-align: right;\n    }\n</style>\n<table border=\"1\" class=\"dataframe\">\n  <thead>\n    <tr style=\"text-align: right;\">\n      <th></th>\n      <th>g30</th>\n      <th>g40</th>\n    </tr>\n  </thead>\n  <tbody>\n    <tr>\n      <th>count</th>\n      <td>17273.000000</td>\n      <td>17613.000000</td>\n    </tr>\n    <tr>\n      <th>mean</th>\n      <td>50.822845</td>\n      <td>50.606370</td>\n    </tr>\n    <tr>\n      <th>std</th>\n      <td>100.868116</td>\n      <td>103.047419</td>\n    </tr>\n    <tr>\n      <th>min</th>\n      <td>0.000000</td>\n      <td>0.000000</td>\n    </tr>\n    <tr>\n      <th>25%</th>\n      <td>5.000000</td>\n      <td>5.000000</td>\n    </tr>\n    <tr>\n      <th>50%</th>\n      <td>17.000000</td>\n      <td>16.000000</td>\n    </tr>\n    <tr>\n      <th>75%</th>\n      <td>50.000000</td>\n      <td>51.000000</td>\n    </tr>\n    <tr>\n      <th>max</th>\n      <td>2156.000000</td>\n      <td>2640.000000</td>\n    </tr>\n  </tbody>\n</table>\n</div>",
      "text/plain": "                g30           g40\ncount  17273.000000  17613.000000\nmean      50.822845     50.606370\nstd      100.868116    103.047419\nmin        0.000000      0.000000\n25%        5.000000      5.000000\n50%       17.000000     16.000000\n75%       50.000000     51.000000\nmax     2156.000000   2640.000000"
     },
     "execution_count": 24,
     "metadata": {},
     "output_type": "execute_result"
    }
   ],
   "source": [
    "freq_df = pd.DataFrame({'g30': pd.Series(sdf[sdf.version == 'gate_30'].sum_gamerounds.tolist()),'g40':pd.Series(sdf[sdf.version == 'gate_40'].sum_gamerounds.tolist())})\n",
    "freq_df.describe()"
   ]
  },
  {
   "cell_type": "code",
   "execution_count": 25,
   "metadata": {},
   "outputs": [],
   "source": [
    " np.warnings.filterwarnings('ignore', category=np.VisibleDeprecationWarning)"
   ]
  },
  {
   "cell_type": "code",
   "execution_count": 26,
   "metadata": {},
   "outputs": [
    {
     "data": {
      "image/png": "[encoded data removed]",
      "text/plain": "<Figure size 1008x720 with 1 Axes>"
     },
     "metadata": {
      "needs_background": "light"
     },
     "output_type": "display_data"
    }
   ],
   "source": [
    "\n",
    "freq_df.plot(kind='box', figsize=(14,10))\n",
    "plt.title('Number of Rounds played per user by group', fontsize='22')\n",
    "plt.xlabel('Game Group', fontsize='14')\n",
    "plt.ylabel('Number of rounds played', fontsize='14')\n",
    "plt.show()"
   ]
  },
  {
   "cell_type": "markdown",
   "metadata": {},
   "source": [
    "Looking at a random sample of data points from the original dataset we see fairly similar distributions between groups that appear to be left skewed with long tails in the number of round played per user in each group."
   ]
  },
  {
   "cell_type": "code",
   "execution_count": 27,
   "metadata": {},
   "outputs": [
    {
     "name": "stdout",
     "output_type": "stream",
     "text": [
      "63.61% of players (22190) did not play 30 levels in the first week, and 69.96% of players (24405) did not play 40 levels in the first week\n"
     ]
    }
   ],
   "source": [
    "rndstats = sdf.groupby(['sum_gamerounds'])['userid'].count()\n",
    "total = rndstats.sum()\n",
    "lt30 = rndstats[:30].sum()\n",
    "lt40 = rndstats[:40].sum()\n",
    "\n",
    "print('{:.2%} of players ({}) did not play 30 levels in the first week, and {:.2%} of players ({}) did not play 40 levels in the first week'.format((lt30/total),lt30,(lt40/total),lt40))"
   ]
  },
  {
   "cell_type": "code",
   "execution_count": 28,
   "metadata": {},
   "outputs": [],
   "source": [
    "grpA = sdf[sdf.version == 'gate_30'].sum_gamerounds\n",
    "grpB = sdf[sdf.version == 'gate_40'].sum_gamerounds"
   ]
  },
  {
   "cell_type": "code",
   "execution_count": 29,
   "metadata": {},
   "outputs": [
    {
     "name": "stdout",
     "output_type": "stream",
     "text": [
      "5.740995606642815 57.167657668395975\n",
      "6.26274943204305 72.10573563884277\n"
     ]
    }
   ],
   "source": [
    "print(grpA.skew(), grpA.kurtosis())\n",
    "print(grpB.skew(), grpB.kurtosis())"
   ]
  },
  {
   "cell_type": "markdown",
   "metadata": {},
   "source": [
    "We confirm the visual inpection from earlier that both distributions are highly left skewed with long tails."
   ]
  },
  {
   "cell_type": "code",
   "execution_count": 30,
   "metadata": {},
   "outputs": [
    {
     "data": {
      "text/plain": "MannwhitneyuResult(statistic=150463060.5, pvalue=0.03947100330364335)"
     },
     "execution_count": 30,
     "metadata": {},
     "output_type": "execute_result"
    }
   ],
   "source": [
    "from scipy.stats import mannwhitneyu\n",
    "\n",
    "mannwhitneyu(grpA,grpB)"
   ]
  },
  {
   "cell_type": "markdown",
   "metadata": {},
   "source": [
    "Confirmation of the difference between groups in the sample is confirmed through the MannWhitneyU test."
   ]
  },
  {
   "cell_type": "code",
   "execution_count": 31,
   "metadata": {},
   "outputs": [
    {
     "data": {
      "text/plain": "version\ngate_30    0.448388\ngate_40    0.440357\nName: retention_1, dtype: float64"
     },
     "execution_count": 31,
     "metadata": {},
     "output_type": "execute_result"
    }
   ],
   "source": [
    "sdf.groupby(['version'])['retention_1'].mean()"
   ]
  },
  {
   "cell_type": "code",
   "execution_count": 32,
   "metadata": {},
   "outputs": [
    {
     "data": {
      "text/plain": "version\ngate_30    0.191223\ngate_40    0.181741\nName: retention_7, dtype: float64"
     },
     "execution_count": 32,
     "metadata": {},
     "output_type": "execute_result"
    }
   ],
   "source": [
    "sdf.groupby(['version'])['retention_7'].mean()"
   ]
  },
  {
   "cell_type": "markdown",
   "metadata": {},
   "source": [
    "At the end of the first week there appears to be a 1% retention in users when the game version has gates set at 30 levels vs gates set at 40 levels."
   ]
  },
  {
   "cell_type": "code",
   "execution_count": 33,
   "metadata": {},
   "outputs": [
    {
     "data": {
      "text/html": "<div>\n<style scoped>\n    .dataframe tbody tr th:only-of-type {\n        vertical-align: middle;\n    }\n\n    .dataframe tbody tr th {\n        vertical-align: top;\n    }\n\n    .dataframe thead th {\n        text-align: right;\n    }\n</style>\n<table border=\"1\" class=\"dataframe\">\n  <thead>\n    <tr style=\"text-align: right;\">\n      <th>version</th>\n      <th>gate_30</th>\n      <th>gate_40</th>\n    </tr>\n  </thead>\n  <tbody>\n    <tr>\n      <th>retention_1</th>\n      <td>0.445073</td>\n      <td>0.440945</td>\n    </tr>\n    <tr>\n      <th>retention_1</th>\n      <td>0.451675</td>\n      <td>0.438507</td>\n    </tr>\n    <tr>\n      <th>retention_1</th>\n      <td>0.446697</td>\n      <td>0.436740</td>\n    </tr>\n    <tr>\n      <th>retention_1</th>\n      <td>0.446727</td>\n      <td>0.440319</td>\n    </tr>\n    <tr>\n      <th>retention_1</th>\n      <td>0.447641</td>\n      <td>0.440391</td>\n    </tr>\n  </tbody>\n</table>\n</div>",
      "text/plain": "version       gate_30   gate_40\nretention_1  0.445073  0.440945\nretention_1  0.451675  0.438507\nretention_1  0.446697  0.436740\nretention_1  0.446727  0.440319\nretention_1  0.447641  0.440391"
     },
     "execution_count": 33,
     "metadata": {},
     "output_type": "execute_result"
    }
   ],
   "source": [
    "b1_means = []\n",
    "\n",
    "for i in range(10000):\n",
    "    bsamp = sdf.sample(frac=1, replace=True).groupby(['version'])['retention_1'].mean()\n",
    "    b1_means.append(bsamp)\n",
    "bmean = pd.DataFrame(b1_means)\n",
    "bmean.head()"
   ]
  },
  {
   "cell_type": "code",
   "execution_count": 34,
   "metadata": {},
   "outputs": [
    {
     "data": {
      "text/plain": "<matplotlib.axes._subplots.AxesSubplot at 0x7fdb59192470>"
     },
     "execution_count": 34,
     "metadata": {},
     "output_type": "execute_result"
    },
    {
     "data": {
      "image/png": "[encoded data removed]",
      "text/plain": "<Figure size 432x288 with 1 Axes>"
     },
     "metadata": {
      "needs_background": "light"
     },
     "output_type": "display_data"
    }
   ],
   "source": [
    "bmean.plot(kind='kde')"
   ]
  },
  {
   "cell_type": "code",
   "execution_count": 35,
   "metadata": {},
   "outputs": [
    {
     "data": {
      "text/plain": "<matplotlib.axes._subplots.AxesSubplot at 0x7fdb564c6278>"
     },
     "execution_count": 35,
     "metadata": {},
     "output_type": "execute_result"
    },
    {
     "data": {
      "image/png": "[encoded data removed]",
      "text/plain": "<Figure size 432x288 with 1 Axes>"
     },
     "metadata": {
      "needs_background": "light"
     },
     "output_type": "display_data"
    }
   ],
   "source": [
    "bmean['diff'] = (bmean['gate_30'] - bmean['gate_40'])/bmean['gate_40']*100\n",
    "bmean['diff'].plot(kind='kde', title='% diff in means')"
   ]
  },
  {
   "cell_type": "code",
   "execution_count": 36,
   "metadata": {},
   "outputs": [
    {
     "data": {
      "text/html": "<div>\n<style scoped>\n    .dataframe tbody tr th:only-of-type {\n        vertical-align: middle;\n    }\n\n    .dataframe tbody tr th {\n        vertical-align: top;\n    }\n\n    .dataframe thead th {\n        text-align: right;\n    }\n</style>\n<table border=\"1\" class=\"dataframe\">\n  <thead>\n    <tr style=\"text-align: right;\">\n      <th>version</th>\n      <th>gate_30</th>\n      <th>gate_40</th>\n      <th>diff</th>\n    </tr>\n  </thead>\n  <tbody>\n    <tr>\n      <th>retention_1</th>\n      <td>0.445073</td>\n      <td>0.440945</td>\n      <td>0.936308</td>\n    </tr>\n    <tr>\n      <th>retention_1</th>\n      <td>0.451675</td>\n      <td>0.438507</td>\n      <td>3.002841</td>\n    </tr>\n    <tr>\n      <th>retention_1</th>\n      <td>0.446697</td>\n      <td>0.436740</td>\n      <td>2.279779</td>\n    </tr>\n    <tr>\n      <th>retention_1</th>\n      <td>0.446727</td>\n      <td>0.440319</td>\n      <td>1.455435</td>\n    </tr>\n    <tr>\n      <th>retention_1</th>\n      <td>0.447641</td>\n      <td>0.440391</td>\n      <td>1.646234</td>\n    </tr>\n    <tr>\n      <th>...</th>\n      <td>...</td>\n      <td>...</td>\n      <td>...</td>\n    </tr>\n    <tr>\n      <th>retention_1</th>\n      <td>0.443941</td>\n      <td>0.441265</td>\n      <td>0.606457</td>\n    </tr>\n    <tr>\n      <th>retention_1</th>\n      <td>0.445899</td>\n      <td>0.442360</td>\n      <td>0.800010</td>\n    </tr>\n    <tr>\n      <th>retention_1</th>\n      <td>0.459459</td>\n      <td>0.440690</td>\n      <td>4.259198</td>\n    </tr>\n    <tr>\n      <th>retention_1</th>\n      <td>0.453330</td>\n      <td>0.441472</td>\n      <td>2.686128</td>\n    </tr>\n    <tr>\n      <th>retention_1</th>\n      <td>0.450151</td>\n      <td>0.441628</td>\n      <td>1.929977</td>\n    </tr>\n  </tbody>\n</table>\n<p>9350 rows × 3 columns</p>\n</div>",
      "text/plain": "version       gate_30   gate_40      diff\nretention_1  0.445073  0.440945  0.936308\nretention_1  0.451675  0.438507  3.002841\nretention_1  0.446697  0.436740  2.279779\nretention_1  0.446727  0.440319  1.455435\nretention_1  0.447641  0.440391  1.646234\n...               ...       ...       ...\nretention_1  0.443941  0.441265  0.606457\nretention_1  0.445899  0.442360  0.800010\nretention_1  0.459459  0.440690  4.259198\nretention_1  0.453330  0.441472  2.686128\nretention_1  0.450151  0.441628  1.929977\n\n[9350 rows x 3 columns]"
     },
     "execution_count": 36,
     "metadata": {},
     "output_type": "execute_result"
    }
   ],
   "source": [
    "bmean[bmean['diff'] > 0]"
   ]
  },
  {
   "cell_type": "code",
   "execution_count": 37,
   "metadata": {},
   "outputs": [
    {
     "data": {
      "text/plain": "0.935"
     },
     "execution_count": 37,
     "metadata": {},
     "output_type": "execute_result"
    }
   ],
   "source": [
    "(bmean['diff'] >0).sum()/len(bmean)"
   ]
  },
  {
   "cell_type": "code",
   "execution_count": 38,
   "metadata": {},
   "outputs": [
    {
     "data": {
      "text/html": "<div>\n<style scoped>\n    .dataframe tbody tr th:only-of-type {\n        vertical-align: middle;\n    }\n\n    .dataframe tbody tr th {\n        vertical-align: top;\n    }\n\n    .dataframe thead th {\n        text-align: right;\n    }\n</style>\n<table border=\"1\" class=\"dataframe\">\n  <thead>\n    <tr style=\"text-align: right;\">\n      <th>version</th>\n      <th>gate_30</th>\n      <th>gate_40</th>\n      <th>diff</th>\n    </tr>\n  </thead>\n  <tbody>\n    <tr>\n      <th>count</th>\n      <td>10000.000000</td>\n      <td>10000.000000</td>\n      <td>10000.000000</td>\n    </tr>\n    <tr>\n      <th>mean</th>\n      <td>0.448401</td>\n      <td>0.440337</td>\n      <td>1.838695</td>\n    </tr>\n    <tr>\n      <th>std</th>\n      <td>0.003747</td>\n      <td>0.003745</td>\n      <td>1.211712</td>\n    </tr>\n    <tr>\n      <th>min</th>\n      <td>0.432219</td>\n      <td>0.427957</td>\n      <td>-2.688169</td>\n    </tr>\n    <tr>\n      <th>25%</th>\n      <td>0.445879</td>\n      <td>0.437802</td>\n      <td>1.024655</td>\n    </tr>\n    <tr>\n      <th>50%</th>\n      <td>0.448416</td>\n      <td>0.440292</td>\n      <td>1.838196</td>\n    </tr>\n    <tr>\n      <th>75%</th>\n      <td>0.450955</td>\n      <td>0.442899</td>\n      <td>2.657420</td>\n    </tr>\n    <tr>\n      <th>max</th>\n      <td>0.462505</td>\n      <td>0.454788</td>\n      <td>6.989316</td>\n    </tr>\n  </tbody>\n</table>\n</div>",
      "text/plain": "version       gate_30       gate_40          diff\ncount    10000.000000  10000.000000  10000.000000\nmean         0.448401      0.440337      1.838695\nstd          0.003747      0.003745      1.211712\nmin          0.432219      0.427957     -2.688169\n25%          0.445879      0.437802      1.024655\n50%          0.448416      0.440292      1.838196\n75%          0.450955      0.442899      2.657420\nmax          0.462505      0.454788      6.989316"
     },
     "execution_count": 38,
     "metadata": {},
     "output_type": "execute_result"
    }
   ],
   "source": [
    "bmean.describe()"
   ]
  },
  {
   "cell_type": "markdown",
   "metadata": {},
   "source": [
    "The mean of the means is in-line with the expectation that they are pulled from a normal distribution with a mean roughly equal to the mean originally observed."
   ]
  },
  {
   "cell_type": "code",
   "execution_count": 39,
   "metadata": {},
   "outputs": [
    {
     "data": {
      "text/html": "<div>\n<style scoped>\n    .dataframe tbody tr th:only-of-type {\n        vertical-align: middle;\n    }\n\n    .dataframe tbody tr th {\n        vertical-align: top;\n    }\n\n    .dataframe thead th {\n        text-align: right;\n    }\n</style>\n<table border=\"1\" class=\"dataframe\">\n  <thead>\n    <tr style=\"text-align: right;\">\n      <th>version</th>\n      <th>gate_30</th>\n      <th>gate_40</th>\n    </tr>\n  </thead>\n  <tbody>\n    <tr>\n      <th>retention_7</th>\n      <td>0.190197</td>\n      <td>0.185660</td>\n    </tr>\n    <tr>\n      <th>retention_7</th>\n      <td>0.187413</td>\n      <td>0.187977</td>\n    </tr>\n    <tr>\n      <th>retention_7</th>\n      <td>0.186930</td>\n      <td>0.182305</td>\n    </tr>\n    <tr>\n      <th>retention_7</th>\n      <td>0.192808</td>\n      <td>0.183850</td>\n    </tr>\n    <tr>\n      <th>retention_7</th>\n      <td>0.198751</td>\n      <td>0.188598</td>\n    </tr>\n  </tbody>\n</table>\n</div>",
      "text/plain": "version       gate_30   gate_40\nretention_7  0.190197  0.185660\nretention_7  0.187413  0.187977\nretention_7  0.186930  0.182305\nretention_7  0.192808  0.183850\nretention_7  0.198751  0.188598"
     },
     "execution_count": 39,
     "metadata": {},
     "output_type": "execute_result"
    }
   ],
   "source": [
    "b7_means = []\n",
    "\n",
    "for i in range(10000):\n",
    "    bsamp = sdf.sample(frac=1, replace=True).groupby(['version'])['retention_7'].mean()\n",
    "    b7_means.append(bsamp)\n",
    "bmean7 = pd.DataFrame(b7_means)\n",
    "bmean7.head()"
   ]
  },
  {
   "cell_type": "code",
   "execution_count": 40,
   "metadata": {},
   "outputs": [
    {
     "data": {
      "text/plain": "<matplotlib.axes._subplots.AxesSubplot at 0x7fdb5795da90>"
     },
     "execution_count": 40,
     "metadata": {},
     "output_type": "execute_result"
    },
    {
     "data": {
      "image/png": "[encoded data removed]",
      "text/plain": "<Figure size 432x288 with 1 Axes>"
     },
     "metadata": {
      "needs_background": "light"
     },
     "output_type": "display_data"
    }
   ],
   "source": [
    "bmean7.plot(kind='kde')"
   ]
  },
  {
   "cell_type": "code",
   "execution_count": 41,
   "metadata": {},
   "outputs": [
    {
     "data": {
      "text/plain": "<matplotlib.axes._subplots.AxesSubplot at 0x7fdb52cd1f28>"
     },
     "execution_count": 41,
     "metadata": {},
     "output_type": "execute_result"
    },
    {
     "data": {
      "image/png": "[encoded data removed]",
      "text/plain": "<Figure size 432x288 with 1 Axes>"
     },
     "metadata": {
      "needs_background": "light"
     },
     "output_type": "display_data"
    }
   ],
   "source": [
    "bmean7['diff'] = (bmean7['gate_30'] - bmean7['gate_40'])/bmean7['gate_40']*100\n",
    "bmean7['diff'].plot(kind='kde', title='% diff in means')"
   ]
  },
  {
   "cell_type": "code",
   "execution_count": 42,
   "metadata": {},
   "outputs": [
    {
     "data": {
      "text/html": "<div>\n<style scoped>\n    .dataframe tbody tr th:only-of-type {\n        vertical-align: middle;\n    }\n\n    .dataframe tbody tr th {\n        vertical-align: top;\n    }\n\n    .dataframe thead th {\n        text-align: right;\n    }\n</style>\n<table border=\"1\" class=\"dataframe\">\n  <thead>\n    <tr style=\"text-align: right;\">\n      <th>version</th>\n      <th>gate_30</th>\n      <th>gate_40</th>\n      <th>diff</th>\n    </tr>\n  </thead>\n  <tbody>\n    <tr>\n      <th>retention_7</th>\n      <td>0.190197</td>\n      <td>0.185660</td>\n      <td>2.443785</td>\n    </tr>\n    <tr>\n      <th>retention_7</th>\n      <td>0.186930</td>\n      <td>0.182305</td>\n      <td>2.537072</td>\n    </tr>\n    <tr>\n      <th>retention_7</th>\n      <td>0.192808</td>\n      <td>0.183850</td>\n      <td>4.872458</td>\n    </tr>\n    <tr>\n      <th>retention_7</th>\n      <td>0.198751</td>\n      <td>0.188598</td>\n      <td>5.383523</td>\n    </tr>\n    <tr>\n      <th>retention_7</th>\n      <td>0.184586</td>\n      <td>0.183183</td>\n      <td>0.765854</td>\n    </tr>\n    <tr>\n      <th>...</th>\n      <td>...</td>\n      <td>...</td>\n      <td>...</td>\n    </tr>\n    <tr>\n      <th>retention_7</th>\n      <td>0.187696</td>\n      <td>0.178693</td>\n      <td>5.038303</td>\n    </tr>\n    <tr>\n      <th>retention_7</th>\n      <td>0.189337</td>\n      <td>0.183850</td>\n      <td>2.984389</td>\n    </tr>\n    <tr>\n      <th>retention_7</th>\n      <td>0.194730</td>\n      <td>0.185420</td>\n      <td>5.021069</td>\n    </tr>\n    <tr>\n      <th>retention_7</th>\n      <td>0.187773</td>\n      <td>0.180535</td>\n      <td>4.009340</td>\n    </tr>\n    <tr>\n      <th>retention_7</th>\n      <td>0.188479</td>\n      <td>0.182752</td>\n      <td>3.134106</td>\n    </tr>\n  </tbody>\n</table>\n<p>9887 rows × 3 columns</p>\n</div>",
      "text/plain": "version       gate_30   gate_40      diff\nretention_7  0.190197  0.185660  2.443785\nretention_7  0.186930  0.182305  2.537072\nretention_7  0.192808  0.183850  4.872458\nretention_7  0.198751  0.188598  5.383523\nretention_7  0.184586  0.183183  0.765854\n...               ...       ...       ...\nretention_7  0.187696  0.178693  5.038303\nretention_7  0.189337  0.183850  2.984389\nretention_7  0.194730  0.185420  5.021069\nretention_7  0.187773  0.180535  4.009340\nretention_7  0.188479  0.182752  3.134106\n\n[9887 rows x 3 columns]"
     },
     "execution_count": 42,
     "metadata": {},
     "output_type": "execute_result"
    }
   ],
   "source": [
    "bmean7[bmean7['diff'] >0]"
   ]
  },
  {
   "cell_type": "code",
   "execution_count": 43,
   "metadata": {},
   "outputs": [
    {
     "data": {
      "text/plain": "0.9887"
     },
     "execution_count": 43,
     "metadata": {},
     "output_type": "execute_result"
    }
   ],
   "source": [
    "(bmean7['diff'] >0).sum()/len(bmean7)"
   ]
  },
  {
   "cell_type": "code",
   "execution_count": 44,
   "metadata": {},
   "outputs": [
    {
     "data": {
      "text/html": "<div>\n<style scoped>\n    .dataframe tbody tr th:only-of-type {\n        vertical-align: middle;\n    }\n\n    .dataframe tbody tr th {\n        vertical-align: top;\n    }\n\n    .dataframe thead th {\n        text-align: right;\n    }\n</style>\n<table border=\"1\" class=\"dataframe\">\n  <thead>\n    <tr style=\"text-align: right;\">\n      <th>version</th>\n      <th>gate_30</th>\n      <th>gate_40</th>\n      <th>diff</th>\n    </tr>\n  </thead>\n  <tbody>\n    <tr>\n      <th>count</th>\n      <td>10000.000000</td>\n      <td>10000.000000</td>\n      <td>10000.000000</td>\n    </tr>\n    <tr>\n      <th>mean</th>\n      <td>0.191242</td>\n      <td>0.181737</td>\n      <td>5.257759</td>\n    </tr>\n    <tr>\n      <th>std</th>\n      <td>0.002981</td>\n      <td>0.002931</td>\n      <td>2.375891</td>\n    </tr>\n    <tr>\n      <th>min</th>\n      <td>0.178567</td>\n      <td>0.166876</td>\n      <td>-4.009194</td>\n    </tr>\n    <tr>\n      <th>25%</th>\n      <td>0.189235</td>\n      <td>0.179750</td>\n      <td>3.619589</td>\n    </tr>\n    <tr>\n      <th>50%</th>\n      <td>0.191257</td>\n      <td>0.181699</td>\n      <td>5.235064</td>\n    </tr>\n    <tr>\n      <th>75%</th>\n      <td>0.193256</td>\n      <td>0.183681</td>\n      <td>6.860793</td>\n    </tr>\n    <tr>\n      <th>max</th>\n      <td>0.202267</td>\n      <td>0.193193</td>\n      <td>14.339790</td>\n    </tr>\n  </tbody>\n</table>\n</div>",
      "text/plain": "version       gate_30       gate_40          diff\ncount    10000.000000  10000.000000  10000.000000\nmean         0.191242      0.181737      5.257759\nstd          0.002981      0.002931      2.375891\nmin          0.178567      0.166876     -4.009194\n25%          0.189235      0.179750      3.619589\n50%          0.191257      0.181699      5.235064\n75%          0.193256      0.183681      6.860793\nmax          0.202267      0.193193     14.339790"
     },
     "execution_count": 44,
     "metadata": {},
     "output_type": "execute_result"
    }
   ],
   "source": [
    "bmean7.describe()"
   ]
  },
  {
   "cell_type": "markdown",
   "metadata": {},
   "source": [
    "## Conclusion:\n",
    "\n",
    "From this we can take away that in the case of retention and user engagement after 1-day: the game version with gates set at 30-levels is slightly more effective at improving retention 93% of the time.\n",
    "\n",
    "In the case of 7-day retention when gates are set every 30-levels there is a ~1% increase in user retention 99% of the time.\n",
    "\n",
    "## Further consideration:\n",
    "\n",
    "What other benefits come from this increase in user retention? Is a 1% change in retention after the first week a significant enough improvement to warrant full implementation?"
   ]
  }
 ],
 "metadata": {
  "kernelspec": {
   "display_name": "Python 3",
   "language": "python",
   "name": "python3"
  },
  "language_info": {
   "codemirror_mode": {
    "name": "ipython",
    "version": 3
   },
   "file_extension": ".py",
   "mimetype": "text/x-python",
   "name": "python",
   "nbconvert_exporter": "python",
   "pygments_lexer": "ipython3",
   "version": "3.6.9"
  }
 },
 "nbformat": 4,
 "nbformat_minor": 2
}